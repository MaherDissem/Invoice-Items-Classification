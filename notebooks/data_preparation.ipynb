{
 "metadata": {
  "language_info": {
   "codemirror_mode": {
    "name": "ipython",
    "version": 3
   },
   "file_extension": ".py",
   "mimetype": "text/x-python",
   "name": "python",
   "nbconvert_exporter": "python",
   "pygments_lexer": "ipython3",
   "version": "3.9.5"
  },
  "orig_nbformat": 2,
  "kernelspec": {
   "name": "python3",
   "display_name": "Python 3.9.5 64-bit",
   "metadata": {
    "interpreter": {
     "hash": "f9f85f796d01129d0dd105a088854619f454435301f6ffec2fea96ecbd9be4ac"
    }
   }
  }
 },
 "nbformat": 4,
 "nbformat_minor": 2,
 "cells": [
  {
   "source": [
    "### Data conversion\n",
    "####  creates a new dataset with only supplier name and items names for each invoice\n",
    "####  creates a new \"category\" column for annotation"
   ],
   "cell_type": "markdown",
   "metadata": {}
  },
  {
   "cell_type": "code",
   "execution_count": 1,
   "metadata": {},
   "outputs": [],
   "source": [
    "import os\n",
    "import pandas as pd\n",
    "import numpy as np\n",
    "import matplotlib.pyplot as plt"
   ]
  },
  {
   "cell_type": "code",
   "execution_count": 2,
   "metadata": {},
   "outputs": [
    {
     "output_type": "execute_result",
     "data": {
      "text/plain": [
       "                        image_id                supplier_name  \\\n",
       "0  img20191018_09534180_0001.jpg                                \n",
       "1  img20191018_09553882_0001.jpg  Centrale Laitiere de Mahdra   \n",
       "2  img20191018_09564040_0001.jpg   ARTS MENASCRS-DISTRIBUTION   \n",
       "3  img20191018_09571140_0001.jpg   ARTS MENASCRS-DISTRIBUTION   \n",
       "4  img20191018_09574532_0001.jpg      MAGHREB FOOD Industries   \n",
       "\n",
       "                                    supplier_details  \\\n",
       "0  LEADER PHONE S AR L,50bis Av 10 Decembre 1948 ...   \n",
       "1  DKhia B P 123 Mahoia 5100 - Tunisie Tel (216) ...   \n",
       "2  UE a,RC B1120801997 MF CU,Sieve Social: 176 Av...   \n",
       "3  Societe SARL Capital 2 COC 009 D nars RCB11522...   \n",
       "4  Sernail corn Adesse : I4.impasse X-01 Fstouma ...   \n",
       "\n",
       "                   receiver_name  \\\n",
       "0      MEODIS (GEANT TUNIS CITY)   \n",
       "1  .,MEDITERRANTENNE DIST MEDDIS   \n",
       "2            MEDDIS DISTRIBUTION   \n",
       "3                     STE MEDDIS   \n",
       "4      Client : GEANT TUNIS CITY   \n",
       "\n",
       "                                    receiver_details tax_rate TVA_amount  \\\n",
       "0  783298MPMO00,CENTRE COMMERCIAL TUNIS CITY,2032...      19%    1128240   \n",
       "1  CENTRE CANMERCIAL BOURG,4ite WALL KTDQUN,Es,DJ...      19%    1105610   \n",
       "2  CENTRE COMM. TUNIS CITY,2032 TUNIS ARIANA,MATR...      19%   23404300   \n",
       "3  CENTRE COMMERCIAL TUNIS CITY,Matricule Fiscal,...      19%    1573820   \n",
       "4  C. COMMERCIAL TUNIS CITY,ARIANA,TUNIS 2032,TUN...       7%      22300   \n",
       "\n",
       "               invoice_number invoice_date    total_HT    total  \\\n",
       "0  FC1802290,BL/Facture Ndeg:     14/09/18  5093801050  7066945   \n",
       "1                    F470226$     OS/UI/LE    12908310  1440320   \n",
       "2            Facture FA181265     05/12/18     1233840  1468870   \n",
       "3                   FV1804217     14/12/18     8723316  9867746   \n",
       "4     BL/Facture Ndeg306/2018   07/10/2018      372600   341473   \n",
       "\n",
       "                                 Product_Designation  \n",
       "0   ILP P20,ILP M35,ILP N18,ILP N24,ILP N28,ILP N37+  \n",
       "1   JEURRE CON 200 gr VITAL,\"KOMACE FRAIS NATUPE SUC  \n",
       "2          ROTARY NOSE TRIMMER,KRUPS NESPRESSO WHITE  \n",
       "3  5/2MP 3G LEAGOO BLACK,SMARTPHONE 29 5 0\" 1/16G...  \n",
       "4                              emma,Pois chiche mima  "
      ],
      "text/html": "<div>\n<style scoped>\n    .dataframe tbody tr th:only-of-type {\n        vertical-align: middle;\n    }\n\n    .dataframe tbody tr th {\n        vertical-align: top;\n    }\n\n    .dataframe thead th {\n        text-align: right;\n    }\n</style>\n<table border=\"1\" class=\"dataframe\">\n  <thead>\n    <tr style=\"text-align: right;\">\n      <th></th>\n      <th>image_id</th>\n      <th>supplier_name</th>\n      <th>supplier_details</th>\n      <th>receiver_name</th>\n      <th>receiver_details</th>\n      <th>tax_rate</th>\n      <th>TVA_amount</th>\n      <th>invoice_number</th>\n      <th>invoice_date</th>\n      <th>total_HT</th>\n      <th>total</th>\n      <th>Product_Designation</th>\n    </tr>\n  </thead>\n  <tbody>\n    <tr>\n      <th>0</th>\n      <td>img20191018_09534180_0001.jpg</td>\n      <td></td>\n      <td>LEADER PHONE S AR L,50bis Av 10 Decembre 1948 ...</td>\n      <td>MEODIS (GEANT TUNIS CITY)</td>\n      <td>783298MPMO00,CENTRE COMMERCIAL TUNIS CITY,2032...</td>\n      <td>19%</td>\n      <td>1128240</td>\n      <td>FC1802290,BL/Facture Ndeg:</td>\n      <td>14/09/18</td>\n      <td>5093801050</td>\n      <td>7066945</td>\n      <td>ILP P20,ILP M35,ILP N18,ILP N24,ILP N28,ILP N37+</td>\n    </tr>\n    <tr>\n      <th>1</th>\n      <td>img20191018_09553882_0001.jpg</td>\n      <td>Centrale Laitiere de Mahdra</td>\n      <td>DKhia B P 123 Mahoia 5100 - Tunisie Tel (216) ...</td>\n      <td>.,MEDITERRANTENNE DIST MEDDIS</td>\n      <td>CENTRE CANMERCIAL BOURG,4ite WALL KTDQUN,Es,DJ...</td>\n      <td>19%</td>\n      <td>1105610</td>\n      <td>F470226$</td>\n      <td>OS/UI/LE</td>\n      <td>12908310</td>\n      <td>1440320</td>\n      <td>JEURRE CON 200 gr VITAL,\"KOMACE FRAIS NATUPE SUC</td>\n    </tr>\n    <tr>\n      <th>2</th>\n      <td>img20191018_09564040_0001.jpg</td>\n      <td>ARTS MENASCRS-DISTRIBUTION</td>\n      <td>UE a,RC B1120801997 MF CU,Sieve Social: 176 Av...</td>\n      <td>MEDDIS DISTRIBUTION</td>\n      <td>CENTRE COMM. TUNIS CITY,2032 TUNIS ARIANA,MATR...</td>\n      <td>19%</td>\n      <td>23404300</td>\n      <td>Facture FA181265</td>\n      <td>05/12/18</td>\n      <td>1233840</td>\n      <td>1468870</td>\n      <td>ROTARY NOSE TRIMMER,KRUPS NESPRESSO WHITE</td>\n    </tr>\n    <tr>\n      <th>3</th>\n      <td>img20191018_09571140_0001.jpg</td>\n      <td>ARTS MENASCRS-DISTRIBUTION</td>\n      <td>Societe SARL Capital 2 COC 009 D nars RCB11522...</td>\n      <td>STE MEDDIS</td>\n      <td>CENTRE COMMERCIAL TUNIS CITY,Matricule Fiscal,...</td>\n      <td>19%</td>\n      <td>1573820</td>\n      <td>FV1804217</td>\n      <td>14/12/18</td>\n      <td>8723316</td>\n      <td>9867746</td>\n      <td>5/2MP 3G LEAGOO BLACK,SMARTPHONE 29 5 0\" 1/16G...</td>\n    </tr>\n    <tr>\n      <th>4</th>\n      <td>img20191018_09574532_0001.jpg</td>\n      <td>MAGHREB FOOD Industries</td>\n      <td>Sernail corn Adesse : I4.impasse X-01 Fstouma ...</td>\n      <td>Client : GEANT TUNIS CITY</td>\n      <td>C. COMMERCIAL TUNIS CITY,ARIANA,TUNIS 2032,TUN...</td>\n      <td>7%</td>\n      <td>22300</td>\n      <td>BL/Facture Ndeg306/2018</td>\n      <td>07/10/2018</td>\n      <td>372600</td>\n      <td>341473</td>\n      <td>emma,Pois chiche mima</td>\n    </tr>\n  </tbody>\n</table>\n</div>"
     },
     "metadata": {},
     "execution_count": 2
    }
   ],
   "source": [
    "df = pd.read_csv('/run/media/maher/01D69D8A18EAFF70/Internship/data/data_intern.csv')\n",
    "n=df.shape[0]\n",
    "df.head()"
   ]
  },
  {
   "cell_type": "code",
   "execution_count": 3,
   "metadata": {},
   "outputs": [
    {
     "output_type": "execute_result",
     "data": {
      "text/plain": [
       "['ILP P20', 'ILP M35', 'ILP N18', 'ILP N24', 'ILP N28', 'ILP N37+']"
      ]
     },
     "metadata": {},
     "execution_count": 3
    }
   ],
   "source": [
    "df['Product_Designation'][0].split(',')"
   ]
  },
  {
   "cell_type": "code",
   "execution_count": 4,
   "metadata": {},
   "outputs": [
    {
     "output_type": "execute_result",
     "data": {
      "text/plain": [
       "Index(['image_id', 'supplier_name', 'supplier_details', 'receiver_name',\n",
       "       'receiver_details', 'tax_rate', 'TVA_amount', 'invoice_number',\n",
       "       'invoice_date', 'total_HT', 'total', 'Product_Designation'],\n",
       "      dtype='object')"
      ]
     },
     "metadata": {},
     "execution_count": 4
    }
   ],
   "source": [
    "df.columns"
   ]
  },
  {
   "cell_type": "code",
   "execution_count": 5,
   "metadata": {},
   "outputs": [],
   "source": [
    "features=['supplier_name','Product_Designation','category']"
   ]
  },
  {
   "cell_type": "code",
   "execution_count": 6,
   "metadata": {},
   "outputs": [
    {
     "output_type": "stream",
     "name": "stdout",
     "text": [
      "shape=(2697, 3)\n"
     ]
    },
    {
     "output_type": "execute_result",
     "data": {
      "text/plain": [
       "  supplier_name Product_Designation category\n",
       "0                           ILP P20         \n",
       "1                           ILP M35         \n",
       "2                           ILP N18         \n",
       "3                           ILP N24         \n",
       "4                           ILP N28         "
      ],
      "text/html": "<div>\n<style scoped>\n    .dataframe tbody tr th:only-of-type {\n        vertical-align: middle;\n    }\n\n    .dataframe tbody tr th {\n        vertical-align: top;\n    }\n\n    .dataframe thead th {\n        text-align: right;\n    }\n</style>\n<table border=\"1\" class=\"dataframe\">\n  <thead>\n    <tr style=\"text-align: right;\">\n      <th></th>\n      <th>supplier_name</th>\n      <th>Product_Designation</th>\n      <th>category</th>\n    </tr>\n  </thead>\n  <tbody>\n    <tr>\n      <th>0</th>\n      <td></td>\n      <td>ILP P20</td>\n      <td></td>\n    </tr>\n    <tr>\n      <th>1</th>\n      <td></td>\n      <td>ILP M35</td>\n      <td></td>\n    </tr>\n    <tr>\n      <th>2</th>\n      <td></td>\n      <td>ILP N18</td>\n      <td></td>\n    </tr>\n    <tr>\n      <th>3</th>\n      <td></td>\n      <td>ILP N24</td>\n      <td></td>\n    </tr>\n    <tr>\n      <th>4</th>\n      <td></td>\n      <td>ILP N28</td>\n      <td></td>\n    </tr>\n  </tbody>\n</table>\n</div>"
     },
     "metadata": {},
     "execution_count": 6
    }
   ],
   "source": [
    "L=[]\n",
    "k=0\n",
    "for i in range(df.shape[0]):\n",
    "    n=len(df['Product_Designation'][i].split(','))  # number of items for invoice i\n",
    "    for j in range(n):\n",
    "        L.append([\n",
    "            df.iloc[i]['supplier_name'],\n",
    "            df.iloc[i]['Product_Designation'].split(',')[j],\n",
    "            '' # category\n",
    "        ])\n",
    "X=pd.DataFrame(L,columns=features)\n",
    "\n",
    "print(f'shape={X.shape}')\n",
    "X.head()"
   ]
  },
  {
   "cell_type": "code",
   "execution_count": 15,
   "metadata": {},
   "outputs": [],
   "source": [
    "X.to_csv('./data/new_data.csv')"
   ]
  }
 ]
}