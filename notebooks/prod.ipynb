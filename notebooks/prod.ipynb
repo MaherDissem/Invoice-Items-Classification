{
 "cells": [
  {
   "cell_type": "code",
   "execution_count": 1,
   "source": [
    "import pandas as pd\n",
    "import numpy as np\n",
    "import matplotlib.pyplot as plt"
   ],
   "outputs": [],
   "metadata": {}
  },
  {
   "cell_type": "code",
   "execution_count": 2,
   "source": [
    "df = pd.read_csv('./data/annotated_data.csv')\n",
    "df=df[df['category'].str.len()>1]"
   ],
   "outputs": [],
   "metadata": {}
  },
  {
   "cell_type": "code",
   "execution_count": 3,
   "source": [
    "import re\n",
    "from spellchecker import SpellChecker\n",
    "\n",
    "import nltk\n",
    "nltk.download('stopwords')\n",
    "nltk.download('punkt')\n",
    "french_stopwords = nltk.corpus.stopwords.words('french')\n",
    "french_stopwords.remove('l') # litre\n",
    "\n",
    "from french_lefff_lemmatizer.french_lefff_lemmatizer import FrenchLefffLemmatizer\n",
    "lemmatizer = FrenchLefffLemmatizer()\n",
    "\n",
    "\n",
    "def clean_text(text):\n",
    "    \"\"\"\n",
    "    Applies some pre-processing on the given text\n",
    "    \"\"\"\n",
    "    \n",
    "    # convert text to lowercase\n",
    "    text = text.lower()\n",
    "\n",
    "    # remove numbers, symbols and ponctuation\n",
    "    text = re.sub(r\"[^A-Za-z]\", \" \", text)\n",
    "\n",
    "    # remove leading whitespaces\n",
    "    text = text.strip()\n",
    "\n",
    "    # remove stop words\n",
    "    tokenize_sentence = nltk.tokenize.word_tokenize(text)\n",
    "    words_w_stopwords = [i for i in tokenize_sentence if i not in french_stopwords]\n",
    "\n",
    "    # lemitization\n",
    "    words_lemmatize = (lemmatizer.lemmatize(w) for w in words_w_stopwords)\n",
    "    text = ' '.join(w for w in words_lemmatize)\n",
    "\n",
    "    # spell check\n",
    "    #spell = SpellChecker(language='fr')\n",
    "    #text = spell.correction(text)\n",
    "\n",
    "    return text"
   ],
   "outputs": [
    {
     "output_type": "stream",
     "name": "stderr",
     "text": [
      "[nltk_data] Downloading package stopwords to /home/maher/nltk_data...\n",
      "[nltk_data]   Package stopwords is already up-to-date!\n",
      "[nltk_data] Downloading package punkt to /home/maher/nltk_data...\n",
      "[nltk_data]   Package punkt is already up-to-date!\n"
     ]
    }
   ],
   "metadata": {}
  },
  {
   "cell_type": "code",
   "execution_count": 4,
   "source": [
    "df['Product_Designation']=[clean_text(str(text)) for text in df['Product_Designation']]\n",
    "df['supplier_name']=[clean_text(str(text)) for text in df['supplier_name']]\n",
    "df['full_designation']=[df['Product_Designation'].values[i]+\" \"+df['supplier_name'].values[i] for i in range(df.shape[0])]"
   ],
   "outputs": [],
   "metadata": {}
  },
  {
   "cell_type": "code",
   "execution_count": 5,
   "source": [
    "X=df[['supplier_name','Product_Designation']]\n",
    "y=df['category']\n",
    "\n",
    "from sklearn.preprocessing import LabelEncoder\n",
    "lbl_enc = LabelEncoder()\n",
    "y = lbl_enc.fit_transform(y)\n",
    "\n",
    "label_map = dict(zip(lbl_enc.transform(lbl_enc.classes_),lbl_enc.classes_))"
   ],
   "outputs": [],
   "metadata": {}
  },
  {
   "cell_type": "code",
   "execution_count": 6,
   "source": [
    "X['full_designation'] = df['full_designation']"
   ],
   "outputs": [
    {
     "output_type": "stream",
     "name": "stderr",
     "text": [
      "<ipython-input-6-f72a2c6fa215>:1: SettingWithCopyWarning: \n",
      "A value is trying to be set on a copy of a slice from a DataFrame.\n",
      "Try using .loc[row_indexer,col_indexer] = value instead\n",
      "\n",
      "See the caveats in the documentation: https://pandas.pydata.org/pandas-docs/stable/user_guide/indexing.html#returning-a-view-versus-a-copy\n",
      "  X['full_designation'] = df['full_designation']\n"
     ]
    }
   ],
   "metadata": {}
  },
  {
   "cell_type": "code",
   "execution_count": 7,
   "source": [
    "from sklearn.model_selection import train_test_split\n",
    "X_train, X_valid, y_train, y_valid = train_test_split(X['full_designation'], y, test_size=0.2, stratify=df['category'], random_state=13)"
   ],
   "outputs": [],
   "metadata": {}
  },
  {
   "cell_type": "markdown",
   "source": [
    "## Vectorizer"
   ],
   "metadata": {}
  },
  {
   "cell_type": "code",
   "execution_count": 8,
   "source": [
    "from sklearn.feature_extraction.text import CountVectorizer\n",
    "\n",
    "ctv = CountVectorizer(analyzer='word',token_pattern=r'\\w{1,}',\n",
    "            ngram_range=(1, 1))\n",
    "\n",
    "corpus = X_train\n",
    "ctv.fit(corpus)\n",
    "\n",
    "xtrain_ctv =  ctv.transform(X_train) \n",
    "xvalid_ctv = ctv.transform(X_valid)"
   ],
   "outputs": [],
   "metadata": {}
  },
  {
   "cell_type": "markdown",
   "source": [
    "## Classifier training"
   ],
   "metadata": {}
  },
  {
   "cell_type": "code",
   "execution_count": 9,
   "source": [
    "from tensorflow import keras\n",
    "from keras.models import Sequential\n",
    "from keras.layers import Dense, Activation, Dropout\n",
    "from keras.preprocessing import text, sequence\n",
    "from keras import utils"
   ],
   "outputs": [
    {
     "output_type": "stream",
     "name": "stdout",
     "text": [
      "INFO:tensorflow:Enabling eager execution\n",
      "INFO:tensorflow:Enabling v2 tensorshape\n",
      "INFO:tensorflow:Enabling resource variables\n",
      "INFO:tensorflow:Enabling tensor equality\n",
      "INFO:tensorflow:Enabling control flow v2\n"
     ]
    }
   ],
   "metadata": {}
  },
  {
   "cell_type": "code",
   "execution_count": 10,
   "source": [
    "from keras.utils.np_utils import to_categorical\n",
    "\n",
    "y_train_enc = to_categorical(y_train)\n",
    "y_val_enc = to_categorical(y_valid)"
   ],
   "outputs": [],
   "metadata": {}
  },
  {
   "cell_type": "code",
   "execution_count": 11,
   "source": [
    "from tensorflow.keras.callbacks import EarlyStopping\n",
    "early_stop = EarlyStopping(monitor='val_loss',patience=2)"
   ],
   "outputs": [],
   "metadata": {}
  },
  {
   "cell_type": "code",
   "execution_count": 12,
   "source": [
    "model = Sequential([\n",
    "    Dense(512, input_shape=(0,2950)),\n",
    "    Activation('relu'),\n",
    "    \n",
    "    Dropout(0.4),\n",
    "    \n",
    "    Dense(units=15),\n",
    "    Activation('softmax')\n",
    "])\n",
    "\n",
    "model.compile(\n",
    "    loss='categorical_crossentropy',\n",
    "    optimizer='adam',\n",
    "    metrics=['accuracy']\n",
    ")"
   ],
   "outputs": [],
   "metadata": {}
  },
  {
   "cell_type": "code",
   "execution_count": 13,
   "source": [
    "history = model.fit(\n",
    "    xtrain_ctv, y_train_enc,\n",
    "    batch_size=32,\n",
    "    epochs=500,\n",
    "    verbose=1,\n",
    "    validation_data=(xvalid_ctv,y_val_enc),\n",
    "    callbacks=[early_stop]\n",
    ")"
   ],
   "outputs": [
    {
     "output_type": "stream",
     "name": "stdout",
     "text": [
      "Epoch 1/500\n"
     ]
    },
    {
     "output_type": "stream",
     "name": "stderr",
     "text": [
      "/home/maher/.local/lib/python3.9/site-packages/tensorflow/python/framework/indexed_slices.py:447: UserWarning: Converting sparse IndexedSlices(IndexedSlices(indices=Tensor(\"gradient_tape/sequential/dense/embedding_lookup_sparse/Reshape_1:0\", shape=(None,), dtype=int32), values=Tensor(\"gradient_tape/sequential/dense/embedding_lookup_sparse/Reshape:0\", shape=(None, 512), dtype=float32), dense_shape=Tensor(\"gradient_tape/sequential/dense/embedding_lookup_sparse/Cast:0\", shape=(2,), dtype=int32))) to a dense Tensor of unknown shape. This may consume a large amount of memory.\n",
      "  warnings.warn(\n"
     ]
    },
    {
     "output_type": "stream",
     "name": "stdout",
     "text": [
      "57/57 [==============================] - 12s 26ms/step - loss: 2.4248 - accuracy: 0.3218 - val_loss: 1.5073 - val_accuracy: 0.4637\n",
      "Epoch 2/500\n",
      "57/57 [==============================] - 1s 19ms/step - loss: 1.1944 - accuracy: 0.5919 - val_loss: 0.7926 - val_accuracy: 0.8198\n",
      "Epoch 3/500\n",
      "57/57 [==============================] - 1s 19ms/step - loss: 0.5094 - accuracy: 0.9143 - val_loss: 0.4436 - val_accuracy: 0.8989\n",
      "Epoch 4/500\n",
      "57/57 [==============================] - 1s 19ms/step - loss: 0.2125 - accuracy: 0.9740 - val_loss: 0.3235 - val_accuracy: 0.9297\n",
      "Epoch 5/500\n",
      "57/57 [==============================] - 1s 19ms/step - loss: 0.0890 - accuracy: 0.9933 - val_loss: 0.2868 - val_accuracy: 0.9297\n",
      "Epoch 6/500\n",
      "57/57 [==============================] - 1s 19ms/step - loss: 0.0569 - accuracy: 0.9918 - val_loss: 0.2666 - val_accuracy: 0.9341\n",
      "Epoch 7/500\n",
      "57/57 [==============================] - 1s 20ms/step - loss: 0.0336 - accuracy: 0.9988 - val_loss: 0.2599 - val_accuracy: 0.9341\n",
      "Epoch 8/500\n",
      "57/57 [==============================] - 1s 19ms/step - loss: 0.0286 - accuracy: 0.9974 - val_loss: 0.2566 - val_accuracy: 0.9341\n",
      "Epoch 9/500\n",
      "57/57 [==============================] - 1s 19ms/step - loss: 0.0192 - accuracy: 0.9996 - val_loss: 0.2522 - val_accuracy: 0.9363\n",
      "Epoch 10/500\n",
      "57/57 [==============================] - 1s 19ms/step - loss: 0.0162 - accuracy: 0.9986 - val_loss: 0.2553 - val_accuracy: 0.9363\n",
      "Epoch 11/500\n",
      "57/57 [==============================] - 1s 19ms/step - loss: 0.0136 - accuracy: 0.9975 - val_loss: 0.2547 - val_accuracy: 0.9363\n"
     ]
    }
   ],
   "metadata": {}
  },
  {
   "cell_type": "code",
   "execution_count": 14,
   "source": [
    "history_df = pd.DataFrame(history.history)\n",
    "history_df.loc[0:, ['accuracy','val_accuracy']].plot(figsize=[6,4])\n",
    "plt.title(\"Accuracy\")\n",
    "plt.show()"
   ],
   "outputs": [
    {
     "output_type": "display_data",
     "data": {
      "text/plain": [
       "<Figure size 432x288 with 1 Axes>"
      ],
      "image/png": "[encoded data removed]"
     },
     "metadata": {
      "needs_background": "light"
     }
    }
   ],
   "metadata": {}
  },
  {
   "cell_type": "code",
   "execution_count": 15,
   "source": [
    "y_pred = np.argmax(model.predict(xvalid_ctv), axis=-1)\n",
    "y_pred"
   ],
   "outputs": [
    {
     "output_type": "execute_result",
     "data": {
      "text/plain": [
       "array([10,  7,  5,  2, 10,  1,  1,  8,  7, 11,  7,  7,  7,  7,  7,  6,  7,\n",
       "        5, 14,  7,  7,  7,  5,  6,  1, 10,  8,  7, 14,  8,  7,  3, 14,  7,\n",
       "       14, 12,  6, 14,  8,  7,  7,  3, 10, 14,  0,  3, 14,  6,  8,  7,  7,\n",
       "        6,  7,  8,  6,  1,  7,  7,  7,  7, 10,  7,  7,  1,  5,  9, 10,  7,\n",
       "       14,  8,  7, 10,  7,  7,  7, 14,  7,  1,  2,  7,  7, 14,  7,  7,  8,\n",
       "        7,  8,  1,  7,  0,  5,  7, 12,  6,  6, 10,  6,  7, 14,  7,  2,  7,\n",
       "       11,  5,  4,  1,  7, 10,  7,  7,  7,  7, 10,  6, 14, 10,  5,  2,  7,\n",
       "        1, 10,  4,  9,  4, 14,  7,  4,  3,  1,  6, 10,  7,  1,  4, 10,  5,\n",
       "        1,  7,  5,  7,  7,  7,  7,  7,  7,  6,  7,  7,  7,  1,  1,  7,  2,\n",
       "       12,  7,  7,  7,  1,  7,  7,  7, 11,  8,  5,  2,  1,  5,  7,  7,  2,\n",
       "        1,  1,  7,  7,  4, 14,  1,  7,  1,  7,  7,  9,  7,  2,  6, 11,  7,\n",
       "        7,  7,  7, 14, 11,  9,  7,  7,  9,  7,  7, 10,  7,  3,  7,  5,  7,\n",
       "        7,  1,  0,  7,  7,  7,  7, 14,  7,  4,  3,  7,  7,  1,  7,  7,  8,\n",
       "        7,  2,  7,  7, 12,  7, 12,  6,  7,  7,  7,  7,  7, 13,  7,  0,  0,\n",
       "        8,  4,  7,  7,  1, 10,  7,  7,  7,  8,  7, 10,  2,  6,  7,  7,  1,\n",
       "       10,  7,  7,  7,  3, 11,  7,  5,  7,  6, 10,  0,  7,  0,  7,  4,  2,\n",
       "        7,  3,  7,  8,  1, 14,  1,  6,  7,  5,  7,  7,  6, 12, 10,  7,  7,\n",
       "       14,  6,  6,  7,  1, 10,  8,  6,  7,  7,  7,  7, 10,  7,  7, 14,  5,\n",
       "        0,  7, 11,  8,  2,  7,  1,  7,  7,  6, 10,  2,  7,  3,  1, 10,  5,\n",
       "        7,  5, 10, 12,  7,  8, 10,  7,  7,  3,  6,  1, 11,  3, 12, 10, 11,\n",
       "        8, 13,  7,  5,  6,  7,  7,  7,  7,  7,  7, 11,  7,  6,  7,  7,  7,\n",
       "        5, 11,  7,  1, 10,  7,  7,  7,  5,  7,  6,  7,  8,  3,  7,  7,  1,\n",
       "        4,  7,  7,  7,  7,  7,  7,  7,  2,  1,  1,  7,  4,  5,  7,  7, 10,\n",
       "        7,  7,  6,  5,  1,  7, 14,  7,  3, 14, 14, 10,  8,  3,  8,  7, 14,\n",
       "       14,  3, 14,  7,  7,  7,  7,  0,  7,  6, 14, 14,  7,  5,  7,  8, 14,\n",
       "        1,  7,  7,  3,  8,  7, 10,  0,  7,  8,  7,  3,  7,  7,  7,  7,  5,\n",
       "        7, 10,  2,  5, 10, 10,  7, 11,  7, 11,  2,  7,  5])"
      ]
     },
     "metadata": {},
     "execution_count": 15
    }
   ],
   "metadata": {}
  },
  {
   "cell_type": "code",
   "execution_count": 16,
   "source": [
    "[label_map[p] for p in y_pred][:3]"
   ],
   "outputs": [
    {
     "output_type": "execute_result",
     "data": {
      "text/plain": [
       "['Personal', 'Groceries', 'Flatware']"
      ]
     },
     "metadata": {},
     "execution_count": 16
    }
   ],
   "metadata": {}
  },
  {
   "cell_type": "markdown",
   "source": [
    "## New Item Prediction"
   ],
   "metadata": {}
  },
  {
   "cell_type": "code",
   "execution_count": 17,
   "source": [
    "item=corpus[51]\n",
    "item=\"telephone huawei y7 2019\"\n",
    "item = clean_text(item)\n",
    "\n",
    "vect=ctv.transform([item])\n",
    "label_map[np.argmax(model.predict(vect))]"
   ],
   "outputs": [
    {
     "output_type": "execute_result",
     "data": {
      "text/plain": [
       "'Utilities'"
      ]
     },
     "metadata": {},
     "execution_count": 17
    }
   ],
   "metadata": {}
  },
  {
   "cell_type": "code",
   "execution_count": 18,
   "source": [
    "# dumping models\n",
    "import pickle\n",
    "pickle.dump(ctv, open('./dumps/vectorizer.pkl', \"wb\"))\n",
    "pickle.dump(label_map, open('./dumps/label_map.pkl', \"wb\"))\n",
    "model.save('./dumps/')"
   ],
   "outputs": [
    {
     "output_type": "stream",
     "name": "stdout",
     "text": [
      "INFO:tensorflow:Assets written to: ./dumps/assets\n"
     ]
    }
   ],
   "metadata": {}
  },
  {
   "cell_type": "markdown",
   "source": [
    "## prediction with loaded models\n"
   ],
   "metadata": {}
  },
  {
   "cell_type": "code",
   "execution_count": 19,
   "source": [
    "import pickle\n",
    "from tensorflow.keras.models import load_model\n",
    "from numpy import argmax\n",
    "\n",
    "vectorizer2 = pickle.load(open('./dumps/vectorizer.pkl', 'rb'))\n",
    "label_map2=pickle.load(open('./dumps/label_map.pkl', 'rb'))\n",
    "model2 = load_model('./dumps/')"
   ],
   "outputs": [],
   "metadata": {}
  },
  {
   "cell_type": "code",
   "execution_count": 20,
   "source": [
    "item=\"telephone huawei y7 2019\"\n",
    "# item = clean_text(item)\n",
    "\n",
    "vect=vectorizer2.transform([item])\n",
    "label_map2[argmax(model2.predict(vect))]"
   ],
   "outputs": [
    {
     "output_type": "execute_result",
     "data": {
      "text/plain": [
       "'Utilities'"
      ]
     },
     "metadata": {},
     "execution_count": 20
    }
   ],
   "metadata": {}
  },
  {
   "cell_type": "code",
   "execution_count": 21,
   "source": [
    "test=['item1','item2']"
   ],
   "outputs": [],
   "metadata": {}
  },
  {
   "cell_type": "code",
   "execution_count": 23,
   "source": [
    "vect=vectorizer2.transform(test)\n",
    "vect"
   ],
   "outputs": [
    {
     "output_type": "execute_result",
     "data": {
      "text/plain": [
       "<2x2950 sparse matrix of type '<class 'numpy.int64'>'\n",
       "\twith 0 stored elements in Compressed Sparse Row format>"
      ]
     },
     "metadata": {},
     "execution_count": 23
    }
   ],
   "metadata": {}
  },
  {
   "cell_type": "code",
   "execution_count": 35,
   "source": [
    "y_pred = [label_map2[argmax(model2.predict(vector))]for vector in vect]\n",
    "y_pred"
   ],
   "outputs": [
    {
     "output_type": "execute_result",
     "data": {
      "text/plain": [
       "['Groceries', 'Groceries']"
      ]
     },
     "metadata": {},
     "execution_count": 35
    }
   ],
   "metadata": {}
  },
  {
   "cell_type": "code",
   "execution_count": null,
   "source": [],
   "outputs": [],
   "metadata": {}
  }
 ],
 "metadata": {
  "orig_nbformat": 4,
  "language_info": {
   "name": "python",
   "version": "3.9.6",
   "mimetype": "text/x-python",
   "codemirror_mode": {
    "name": "ipython",
    "version": 3
   },
   "pygments_lexer": "ipython3",
   "nbconvert_exporter": "python",
   "file_extension": ".py"
  },
  "kernelspec": {
   "name": "python3",
   "display_name": "Python 3.9.6 64-bit"
  },
  "interpreter": {
   "hash": "767d51c1340bd893661ea55ea3124f6de3c7a262a8b4abca0554b478b1e2ff90"
  }
 },
 "nbformat": 4,
 "nbformat_minor": 2
}