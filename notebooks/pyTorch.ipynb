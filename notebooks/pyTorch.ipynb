{
  "nbformat": 4,
  "nbformat_minor": 0,
  "metadata": {
    "accelerator": "GPU",
    "colab": {
      "name": "pyTorch.ipynb",
      "provenance": []
    },
    "interpreter": {
      "hash": "767d51c1340bd893661ea55ea3124f6de3c7a262a8b4abca0554b478b1e2ff90"
    },
    "kernelspec": {
      "display_name": "Python 3.9.6 64-bit",
      "name": "python3"
    },
    "language_info": {
      "codemirror_mode": {
        "name": "ipython",
        "version": 3
      },
      "file_extension": ".py",
      "mimetype": "text/x-python",
      "name": "python",
      "nbconvert_exporter": "python",
      "pygments_lexer": "ipython3",
      "version": "3.9.6"
    }
  },
  "cells": [
    {
      "cell_type": "code",
      "metadata": {
        "id": "nwgPVkQGuqcY",
        "colab": {
          "base_uri": "https://localhost:8080/"
        },
        "outputId": "eebe2123-b4ef-4e05-a260-d5e13a13d300"
      },
      "source": [
        "from google.colab import drive\n",
        "drive.mount('/content/drive')"
      ],
      "execution_count": null,
      "outputs": [
        {
          "output_type": "stream",
          "text": [
            "Mounted at /content/drive\n"
          ],
          "name": "stdout"
        }
      ]
    },
    {
      "cell_type": "code",
      "metadata": {
        "id": "Ys1w-TuXufS8"
      },
      "source": [
        "import numpy as np \n",
        "import pandas as pd\n",
        "from tqdm import tqdm\n",
        "from matplotlib import pyplot as plt\n",
        "\n",
        "import torch \n",
        "import torch.nn as nn\n",
        "import torch.nn.functional as F\n",
        "import torch.optim as optim "
      ],
      "execution_count": null,
      "outputs": []
    },
    {
      "cell_type": "code",
      "metadata": {
        "colab": {
          "base_uri": "https://localhost:8080/"
        },
        "id": "iIi9kZptvZ7w",
        "outputId": "1717512f-bda4-455e-caef-be5c1089a2c0"
      },
      "source": [
        "!pip install pyspellchecker==0.6.2 git+https://github.com/ClaudeCoulombe/FrenchLefffLemmatizer.git\n"
      ],
      "execution_count": null,
      "outputs": [
        {
          "output_type": "stream",
          "text": [
            "Collecting git+https://github.com/ClaudeCoulombe/FrenchLefffLemmatizer.git\n",
            "  Cloning https://github.com/ClaudeCoulombe/FrenchLefffLemmatizer.git to /tmp/pip-req-build-o6wr2ach\n",
            "  Running command git clone -q https://github.com/ClaudeCoulombe/FrenchLefffLemmatizer.git /tmp/pip-req-build-o6wr2ach\n",
            "Collecting pyspellchecker==0.6.2\n",
            "  Downloading pyspellchecker-0.6.2-py3-none-any.whl (2.7 MB)\n",
            "\u001b[K     |████████████████████████████████| 2.7 MB 7.1 MB/s \n",
            "\u001b[?25hBuilding wheels for collected packages: FrenchLefffLemmatizer\n",
            "  Building wheel for FrenchLefffLemmatizer (setup.py) ... \u001b[?25l\u001b[?25hdone\n",
            "  Created wheel for FrenchLefffLemmatizer: filename=FrenchLefffLemmatizer-0.3-py3-none-any.whl size=3533527 sha256=4647e591558cd49a06a6cff037824a259f1ba641f6dd298a43320d71d564ebf2\n",
            "  Stored in directory: /tmp/pip-ephem-wheel-cache-f6x1syc1/wheels/ba/24/e1/a774b7bba29a14b3f6b291d16e92563c745aa4f4d6901a0af7\n",
            "Successfully built FrenchLefffLemmatizer\n",
            "Installing collected packages: pyspellchecker, FrenchLefffLemmatizer\n",
            "Successfully installed FrenchLefffLemmatizer-0.3 pyspellchecker-0.6.2\n"
          ],
          "name": "stdout"
        }
      ]
    },
    {
      "cell_type": "code",
      "metadata": {
        "colab": {
          "base_uri": "https://localhost:8080/"
        },
        "id": "SaC0O7TTufTF",
        "outputId": "ddb7d13c-4e15-40b8-fb50-195f2bb54858"
      },
      "source": [
        "import re\n",
        "from spellchecker import SpellChecker\n",
        "\n",
        "import nltk\n",
        "nltk.download('stopwords')\n",
        "nltk.download('punkt')\n",
        "french_stopwords = nltk.corpus.stopwords.words('french')\n",
        "french_stopwords.remove('l') # litre\n",
        "\n",
        "from french_lefff_lemmatizer.french_lefff_lemmatizer import FrenchLefffLemmatizer\n",
        "lemmatizer = FrenchLefffLemmatizer()\n",
        "\n",
        "\n",
        "class Items():\n",
        "\n",
        "\n",
        "    def __init__(self, path):\n",
        "        # load data\n",
        "        self.df = pd.read_csv(path)\n",
        "        # remove unlabelled data\n",
        "        self.df = self.df[self.df['category'].str.len()>1]\n",
        "        # clean data\n",
        "        self.clean()\n",
        "        # train_test split\n",
        "        self.split()\n",
        "        # vectorize \n",
        "        self.vectorize()\n",
        "\n",
        "    def clean(self):\n",
        "        self.df['Product_Designation'] = [self.clean_text(str(text)) for text in self.df['Product_Designation']]\n",
        "        self.df['supplier_name'] = [self.clean_text(str(text)) for text in self.df['supplier_name']]\n",
        "        self.df['full_designation'] = [self.df['Product_Designation'].values[i]+\" \"+self.df['supplier_name'].values[i] for i in range(self.df.shape[0])]\n",
        "\n",
        "    def clean_text(self, text):\n",
        "        \"\"\"\n",
        "        Applies some pre-processing on the given text\n",
        "        \"\"\"\n",
        "        # convert text to lowercase\n",
        "        text = text.lower()\n",
        "\n",
        "        # remove numbers, symbols and ponctuation\n",
        "        text = re.sub(r\"[^A-Za-z]\", \" \", text)\n",
        "\n",
        "        # remove leading whitespaces\n",
        "        text = text.strip()\n",
        "\n",
        "        # remove stop words\n",
        "        tokenize_sentence = nltk.tokenize.word_tokenize(text)\n",
        "        words_w_stopwords = [i for i in tokenize_sentence if i not in french_stopwords]\n",
        "\n",
        "        # lemitization\n",
        "        words_lemmatize = (lemmatizer.lemmatize(w) for w in words_w_stopwords)\n",
        "        text = ' '.join(w for w in words_lemmatize)\n",
        "\n",
        "        # spell check\n",
        "        #spell = SpellChecker(language='fr')\n",
        "        #text = spell.correction(text)\n",
        "\n",
        "        return text\n",
        "\n",
        "    def split(self):\n",
        "        X = self.df['full_designation']\n",
        "        y = self.df['category']\n",
        "\n",
        "        from sklearn.model_selection import train_test_split\n",
        "        self.X_train, self.X_valid, self.y_train, self.y_valid = train_test_split(X, y, test_size=0.2, stratify=self.df['category'], random_state=13)\n",
        "\n",
        "    def vectorize(self):\n",
        "        from sklearn.feature_extraction.text import CountVectorizer\n",
        "        ctv = CountVectorizer(analyzer='word',token_pattern=r'\\w{1,}',\n",
        "                    ngram_range=(1, 1))\n",
        "        corpus = self.X_train\n",
        "        ctv.fit(corpus)\n",
        "        self.X_train =  ctv.transform(self.X_train) \n",
        "        self.X_valid = ctv.transform(self.X_valid)\n",
        "\n",
        "        from sklearn.preprocessing import LabelEncoder\n",
        "        lbl_enc = LabelEncoder()\n",
        "        self.y_train = lbl_enc.fit_transform(self.y_train)\n",
        "        self.y_valid = lbl_enc.fit_transform(self.y_valid)\n",
        "        self.label_map = dict(zip(lbl_enc.transform(lbl_enc.classes_),lbl_enc.classes_))\n",
        "\n",
        "    def switch_device(self):\n",
        "        if torch.cuda.is_available():\n",
        "            device = torch.device(\"cuda:0\")\n",
        "            print(\"running on the GPU\")\n",
        "        else:\n",
        "            device = torch.device(\"cpu\")\n",
        "            print(\"running on the CPU\")\n",
        "\n",
        "        self.X_train = torch.from_numpy(self.X_train.toarray())\n",
        "        self.X_valid = torch.from_numpy(self.X_valid.toarray())\n",
        "        self.y_train = torch.from_numpy(self.y_train)\n",
        "        self.y_valid = torch.from_numpy(self.y_valid)\n"
      ],
      "execution_count": null,
      "outputs": [
        {
          "output_type": "stream",
          "text": [
            "[nltk_data] Downloading package stopwords to /root/nltk_data...\n",
            "[nltk_data]   Unzipping corpora/stopwords.zip.\n",
            "[nltk_data] Downloading package punkt to /root/nltk_data...\n",
            "[nltk_data]   Unzipping tokenizers/punkt.zip.\n"
          ],
          "name": "stdout"
        }
      ]
    },
    {
      "cell_type": "code",
      "metadata": {
        "id": "WL1LeTc-ufTN"
      },
      "source": [
        "# Data = Items('./data/annotated_data.csv')\n",
        "Data = Items('/content/drive/MyDrive/Back-up/invoice-document-classification/data/annotated_data.csv')\n",
        "\n",
        "\n",
        "BATCH_SIZE = 1\n",
        "workers = 2\n",
        "\n",
        "X_train_load = torch.utils.data.DataLoader(Data.X_train.toarray(), batch_size=BATCH_SIZE, num_workers=workers)\n",
        "X_valid_load = torch.utils.data.DataLoader(Data.X_valid.toarray(), batch_size=BATCH_SIZE, num_workers=workers) \n",
        "y_train_load = torch.utils.data.DataLoader(Data.y_train, batch_size=BATCH_SIZE, num_workers=workers) \n",
        "y_valid_load = torch.utils.data.DataLoader(Data.y_valid, batch_size=BATCH_SIZE, num_workers=workers) "
      ],
      "execution_count": null,
      "outputs": []
    },
    {
      "cell_type": "code",
      "metadata": {
        "id": "j0w1gzDIufTP"
      },
      "source": [
        "class Network(nn.Module):\n",
        "\n",
        "\n",
        "    def __init__(self, input_shape):\n",
        "        super().__init__()\n",
        "        self.Dense1 = nn.Linear(input_shape, 512)\n",
        "        self.Dropout = nn.Dropout(0.4)\n",
        "        self.Dense2 = nn.Linear(512, out_features=15) # n categ\n",
        "\n",
        "    def forward(self, x):\n",
        "        x = F.relu(self.Dense1(x))\n",
        "        x = F.relu(self.Dropout(x))\n",
        "        x = self.Dense2(x)\n",
        "        return x \n",
        "\n",
        "\n",
        "net = Network(Data.X_train.shape[1])"
      ],
      "execution_count": null,
      "outputs": []
    },
    {
      "cell_type": "code",
      "metadata": {
        "colab": {
          "base_uri": "https://localhost:8080/"
        },
        "id": "CSE5BVHWufTR",
        "outputId": "60f5deda-e4f7-437e-e67d-339eefd80b2d"
      },
      "source": [
        "if torch.cuda.is_available():\n",
        "    device = torch.device(\"cuda:0\")\n",
        "    print(\"running on the GPU\")\n",
        "else:\n",
        "    device = torch.device(\"cpu\")\n",
        "    print(\"running on the CPU\")"
      ],
      "execution_count": null,
      "outputs": [
        {
          "output_type": "stream",
          "text": [
            "running on the GPU\n"
          ],
          "name": "stdout"
        }
      ]
    },
    {
      "cell_type": "code",
      "metadata": {
        "id": "NgH0UoYFufTT"
      },
      "source": [
        "net.to(device)\n",
        "optimizer = optim.Adam(net.parameters(), lr=0.001)\n",
        "loss_function = nn.CrossEntropyLoss()"
      ],
      "execution_count": null,
      "outputs": []
    },
    {
      "cell_type": "code",
      "metadata": {
        "colab": {
          "base_uri": "https://localhost:8080/"
        },
        "id": "zaM782AqufTU",
        "outputId": "6fa76318-e1d6-458a-da16-ce62f8507579"
      },
      "source": [
        "# train\n",
        "\n",
        "EPOCHS = 15\n",
        "stats = {\n",
        "    'loss': [],\n",
        "    'acc': [],\n",
        "    'val_loss': [],\n",
        "    'val_acc': []\n",
        "}\n",
        "\n",
        "for epoch in range(EPOCHS):\n",
        "    print(f\"** Epoch: {epoch} **\")\n",
        "    # training\n",
        "    net.train()\n",
        "    correct, total = 0, 0\n",
        "    for batch_x, batch_y in tqdm(zip(X_train_load, y_train_load), total=len(y_train_load)):\n",
        "        # loading data on device\n",
        "        batch_x = batch_x.to(device, dtype= torch.float)\n",
        "        batch_y = batch_y.to(device)\n",
        "        # Compute prediction and loss\n",
        "        output = net(batch_x) \n",
        "        loss = loss_function(output, batch_y)\n",
        "        # Backpropagation\n",
        "        net.zero_grad()\n",
        "        loss.backward()\n",
        "        optimizer.step()\n",
        "        # compute accuracy\n",
        "        real_class = batch_y\n",
        "        pred_class = torch.argmax(net(batch_x))\n",
        "        if pred_class == real_class:\n",
        "            correct += 1\n",
        "        total += 1\n",
        "    acc = round(correct/total, 3)\n",
        "    print(f\"Accuracy: {acc}\")\n",
        "    print(f\"Loss: {loss}\")\n",
        "    \n",
        "    # validation\n",
        "    net.eval()\n",
        "    correct, total = 0, 0\n",
        "    with torch.no_grad():\n",
        "        for batch_x, batch_y in tqdm(zip(X_valid_load, y_valid_load), total=len(y_valid_load)):\n",
        "            # loading data on device           \n",
        "            batch_x = batch_x.to(device, dtype= torch.float)\n",
        "            batch_y = batch_y.to(device)\n",
        "            # Compute prediction and loss\n",
        "            output = net(batch_x)\n",
        "            val_loss = loss_function(output, batch_y)\n",
        "            # compute accuracy\n",
        "            real_class = batch_y\n",
        "            pred_class = torch.argmax(output)\n",
        "            if pred_class == real_class:\n",
        "                correct += 1\n",
        "            total += 1\n",
        "    val_acc = round(correct/total, 3)\n",
        "    \n",
        "    print(f\"Val_acc: {val_acc}\")\n",
        "    print(f\"Val_Loss: {val_loss}\")\n",
        "\n",
        "    # metrics\n",
        "    stats['acc'].append(acc)\n",
        "    stats['loss'].append(loss)\n",
        "    stats['val_acc'].append(val_acc)\n",
        "    stats['val_loss'].append(val_loss)"
      ],
      "execution_count": null,
      "outputs": [
        {
          "output_type": "stream",
          "text": [
            "** Epoch: 0 **\n"
          ],
          "name": "stdout"
        },
        {
          "output_type": "stream",
          "text": [
            "100%|██████████| 1815/1815 [00:06<00:00, 276.31it/s]"
          ],
          "name": "stderr"
        },
        {
          "output_type": "stream",
          "text": [
            "Accuracy: 0.705\n",
            "Loss: 0.007370778359472752\n"
          ],
          "name": "stdout"
        },
        {
          "output_type": "stream",
          "text": [
            "\n",
            "100%|██████████| 454/454 [00:00<00:00, 489.37it/s]"
          ],
          "name": "stderr"
        },
        {
          "output_type": "stream",
          "text": [
            "Val_acc: 0.896\n",
            "Val_Loss: 1.5475300550460815\n",
            "** Epoch: 1 **\n"
          ],
          "name": "stdout"
        },
        {
          "output_type": "stream",
          "text": [
            "\n",
            "100%|██████████| 1815/1815 [00:06<00:00, 291.20it/s]\n"
          ],
          "name": "stderr"
        },
        {
          "output_type": "stream",
          "text": [
            "Accuracy: 0.96\n",
            "Loss: 0.00048387263086624444\n"
          ],
          "name": "stdout"
        },
        {
          "output_type": "stream",
          "text": [
            "100%|██████████| 454/454 [00:00<00:00, 487.64it/s]"
          ],
          "name": "stderr"
        },
        {
          "output_type": "stream",
          "text": [
            "Val_acc: 0.921\n",
            "Val_Loss: 0.26492825150489807\n",
            "** Epoch: 2 **\n"
          ],
          "name": "stdout"
        },
        {
          "output_type": "stream",
          "text": [
            "\n",
            "100%|██████████| 1815/1815 [00:06<00:00, 290.88it/s]\n"
          ],
          "name": "stderr"
        },
        {
          "output_type": "stream",
          "text": [
            "Accuracy: 0.987\n",
            "Loss: 4.8397800128441304e-05\n"
          ],
          "name": "stdout"
        },
        {
          "output_type": "stream",
          "text": [
            "100%|██████████| 454/454 [00:00<00:00, 507.48it/s]\n"
          ],
          "name": "stderr"
        },
        {
          "output_type": "stream",
          "text": [
            "Val_acc: 0.932\n",
            "Val_Loss: 0.31698930263519287\n",
            "** Epoch: 3 **\n"
          ],
          "name": "stdout"
        },
        {
          "output_type": "stream",
          "text": [
            "100%|██████████| 1815/1815 [00:06<00:00, 295.06it/s]\n"
          ],
          "name": "stderr"
        },
        {
          "output_type": "stream",
          "text": [
            "Accuracy: 0.997\n",
            "Loss: 3.7431014789035544e-05\n"
          ],
          "name": "stdout"
        },
        {
          "output_type": "stream",
          "text": [
            "100%|██████████| 454/454 [00:00<00:00, 498.82it/s]"
          ],
          "name": "stderr"
        },
        {
          "output_type": "stream",
          "text": [
            "Val_acc: 0.932\n",
            "Val_Loss: 0.03348081186413765\n",
            "** Epoch: 4 **\n"
          ],
          "name": "stdout"
        },
        {
          "output_type": "stream",
          "text": [
            "\n",
            "100%|██████████| 1815/1815 [00:06<00:00, 293.21it/s]\n"
          ],
          "name": "stderr"
        },
        {
          "output_type": "stream",
          "text": [
            "Accuracy: 0.997\n",
            "Loss: 8.344646857949556e-07\n"
          ],
          "name": "stdout"
        },
        {
          "output_type": "stream",
          "text": [
            "100%|██████████| 454/454 [00:00<00:00, 492.14it/s]"
          ],
          "name": "stderr"
        },
        {
          "output_type": "stream",
          "text": [
            "Val_acc: 0.927\n",
            "Val_Loss: 0.2885282635688782\n",
            "** Epoch: 5 **\n"
          ],
          "name": "stdout"
        },
        {
          "output_type": "stream",
          "text": [
            "\n",
            "100%|██████████| 1815/1815 [00:06<00:00, 291.66it/s]\n"
          ],
          "name": "stderr"
        },
        {
          "output_type": "stream",
          "text": [
            "Accuracy: 0.998\n",
            "Loss: 1.0371154530730564e-05\n"
          ],
          "name": "stdout"
        },
        {
          "output_type": "stream",
          "text": [
            "100%|██████████| 454/454 [00:01<00:00, 452.43it/s]\n"
          ],
          "name": "stderr"
        },
        {
          "output_type": "stream",
          "text": [
            "Val_acc: 0.923\n",
            "Val_Loss: 0.4457191824913025\n",
            "** Epoch: 6 **\n"
          ],
          "name": "stdout"
        },
        {
          "output_type": "stream",
          "text": [
            "100%|██████████| 1815/1815 [00:06<00:00, 275.80it/s]\n"
          ],
          "name": "stderr"
        },
        {
          "output_type": "stream",
          "text": [
            "Accuracy: 0.997\n",
            "Loss: 2.3841855067985307e-07\n"
          ],
          "name": "stdout"
        },
        {
          "output_type": "stream",
          "text": [
            "100%|██████████| 454/454 [00:01<00:00, 440.55it/s]"
          ],
          "name": "stderr"
        },
        {
          "output_type": "stream",
          "text": [
            "Val_acc: 0.927\n",
            "Val_Loss: 0.35196805000305176\n",
            "** Epoch: 7 **\n"
          ],
          "name": "stdout"
        },
        {
          "output_type": "stream",
          "text": [
            "\n",
            "100%|██████████| 1815/1815 [00:06<00:00, 278.82it/s]"
          ],
          "name": "stderr"
        },
        {
          "output_type": "stream",
          "text": [
            "Accuracy: 0.999\n",
            "Loss: 1.1920928244535389e-07\n"
          ],
          "name": "stdout"
        },
        {
          "output_type": "stream",
          "text": [
            "\n",
            "100%|██████████| 454/454 [00:00<00:00, 458.43it/s]\n"
          ],
          "name": "stderr"
        },
        {
          "output_type": "stream",
          "text": [
            "Val_acc: 0.925\n",
            "Val_Loss: 2.5041821002960205\n",
            "** Epoch: 8 **\n"
          ],
          "name": "stdout"
        },
        {
          "output_type": "stream",
          "text": [
            "100%|██████████| 1815/1815 [00:06<00:00, 267.69it/s]\n"
          ],
          "name": "stderr"
        },
        {
          "output_type": "stream",
          "text": [
            "Accuracy: 0.998\n",
            "Loss: 0.0\n"
          ],
          "name": "stdout"
        },
        {
          "output_type": "stream",
          "text": [
            "100%|██████████| 454/454 [00:01<00:00, 442.48it/s]"
          ],
          "name": "stderr"
        },
        {
          "output_type": "stream",
          "text": [
            "Val_acc: 0.925\n",
            "Val_Loss: 0.540881872177124\n",
            "** Epoch: 9 **\n"
          ],
          "name": "stdout"
        },
        {
          "output_type": "stream",
          "text": [
            "\n",
            "100%|██████████| 1815/1815 [00:06<00:00, 283.45it/s]"
          ],
          "name": "stderr"
        },
        {
          "output_type": "stream",
          "text": [
            "Accuracy: 0.999\n",
            "Loss: 0.0\n"
          ],
          "name": "stdout"
        },
        {
          "output_type": "stream",
          "text": [
            "\n",
            "100%|██████████| 454/454 [00:00<00:00, 483.18it/s]"
          ],
          "name": "stderr"
        },
        {
          "output_type": "stream",
          "text": [
            "Val_acc: 0.93\n",
            "Val_Loss: 0.10031668096780777\n",
            "** Epoch: 10 **\n"
          ],
          "name": "stdout"
        },
        {
          "output_type": "stream",
          "text": [
            "\n",
            "100%|██████████| 1815/1815 [00:06<00:00, 287.81it/s]"
          ],
          "name": "stderr"
        },
        {
          "output_type": "stream",
          "text": [
            "Accuracy: 0.999\n",
            "Loss: 0.0\n"
          ],
          "name": "stdout"
        },
        {
          "output_type": "stream",
          "text": [
            "\n",
            "100%|██████████| 454/454 [00:00<00:00, 480.10it/s]"
          ],
          "name": "stderr"
        },
        {
          "output_type": "stream",
          "text": [
            "Val_acc: 0.925\n",
            "Val_Loss: 0.8605532050132751\n",
            "** Epoch: 11 **\n"
          ],
          "name": "stdout"
        },
        {
          "output_type": "stream",
          "text": [
            "\n",
            "100%|██████████| 1815/1815 [00:06<00:00, 291.45it/s]\n"
          ],
          "name": "stderr"
        },
        {
          "output_type": "stream",
          "text": [
            "Accuracy: 1.0\n",
            "Loss: 0.0\n"
          ],
          "name": "stdout"
        },
        {
          "output_type": "stream",
          "text": [
            "100%|██████████| 454/454 [00:00<00:00, 489.78it/s]"
          ],
          "name": "stderr"
        },
        {
          "output_type": "stream",
          "text": [
            "Val_acc: 0.925\n",
            "Val_Loss: 3.5473275184631348\n",
            "** Epoch: 12 **\n"
          ],
          "name": "stdout"
        },
        {
          "output_type": "stream",
          "text": [
            "\n",
            "100%|██████████| 1815/1815 [00:06<00:00, 290.45it/s]\n"
          ],
          "name": "stderr"
        },
        {
          "output_type": "stream",
          "text": [
            "Accuracy: 1.0\n",
            "Loss: 0.0\n"
          ],
          "name": "stdout"
        },
        {
          "output_type": "stream",
          "text": [
            "100%|██████████| 454/454 [00:00<00:00, 487.73it/s]"
          ],
          "name": "stderr"
        },
        {
          "output_type": "stream",
          "text": [
            "Val_acc: 0.93\n",
            "Val_Loss: 2.5035879611968994\n",
            "** Epoch: 13 **\n"
          ],
          "name": "stdout"
        },
        {
          "output_type": "stream",
          "text": [
            "\n",
            "100%|██████████| 1815/1815 [00:06<00:00, 292.14it/s]"
          ],
          "name": "stderr"
        },
        {
          "output_type": "stream",
          "text": [
            "Accuracy: 0.999\n",
            "Loss: 0.0\n"
          ],
          "name": "stdout"
        },
        {
          "output_type": "stream",
          "text": [
            "\n",
            "100%|██████████| 454/454 [00:00<00:00, 493.57it/s]"
          ],
          "name": "stderr"
        },
        {
          "output_type": "stream",
          "text": [
            "Val_acc: 0.925\n",
            "Val_Loss: 5.811074733734131\n",
            "** Epoch: 14 **\n"
          ],
          "name": "stdout"
        },
        {
          "output_type": "stream",
          "text": [
            "\n",
            "100%|██████████| 1815/1815 [00:06<00:00, 285.61it/s]\n"
          ],
          "name": "stderr"
        },
        {
          "output_type": "stream",
          "text": [
            "Accuracy: 0.999\n",
            "Loss: 0.0\n"
          ],
          "name": "stdout"
        },
        {
          "output_type": "stream",
          "text": [
            "100%|██████████| 454/454 [00:00<00:00, 458.18it/s]\n"
          ],
          "name": "stderr"
        },
        {
          "output_type": "stream",
          "text": [
            "Val_acc: 0.925\n",
            "Val_Loss: 3.6272823810577393\n"
          ],
          "name": "stdout"
        }
      ]
    },
    {
      "cell_type": "code",
      "metadata": {
        "colab": {
          "base_uri": "https://localhost:8080/",
          "height": 281
        },
        "id": "cDJ05InVufTZ",
        "outputId": "58cf750b-fc25-4cf3-9767-954e939baebd"
      },
      "source": [
        "# plot\n",
        "plt.subplot(121)\n",
        "plt.plot(range(EPOCHS),stats['acc'], label=\"acc\",)\n",
        "plt.plot(range(EPOCHS),stats['val_acc'], label=\"val_acc\")\n",
        "plt.title(\"train\"); plt.legend()\n",
        "\n",
        "plt.subplot(122)\n",
        "plt.plot(range(EPOCHS),stats['loss'], label=\"loss\")\n",
        "plt.plot(range(EPOCHS),stats['val_loss'], label=\"val_loss\")\n",
        "plt.title(\"val\"); plt.legend()\n",
        "\n",
        "plt.show()"
      ],
      "execution_count": null,
      "outputs": [
        {
          "output_type": "display_data",
          "data": {
            "image/png": "[encoded data removed]",
            "text/plain": [
              "<Figure size 432x288 with 2 Axes>"
            ]
          },
          "metadata": {
            "tags": [],
            "needs_background": "light"
          }
        }
      ]
    },
    {
      "cell_type": "code",
      "metadata": {
        "id": "MnR-AlF8ufTc"
      },
      "source": [
        ""
      ],
      "execution_count": null,
      "outputs": []
    },
    {
      "cell_type": "code",
      "metadata": {
        "id": "WU85W_bRufTd"
      },
      "source": [
        ""
      ],
      "execution_count": null,
      "outputs": []
    }
  ]
}